{
  "cells": [
    {
      "cell_type": "code",
      "execution_count": 2,
      "metadata": {
        "colab": {
          "base_uri": "https://localhost:8080/"
        },
        "id": "etuni0Wj7usZ",
        "outputId": "2613c455-b281-4e12-e45d-628f30c404ca"
      },
      "outputs": [
        {
          "name": "stdout",
          "output_type": "stream",
          "text": [
            "       Governorate  Temperature  Humidity  Wind Speed\n",
            "0            Cairo         31.5        37        25.9\n",
            "1       Alexandria         28.2        64        14.4\n",
            "2        Port-Said         28.6        68        18.7\n",
            "3             Suez         27.1        60        20.9\n",
            "4         Damietta         27.9        68        15.8\n",
            "5         Dakahlia         27.9        54        15.5\n",
            "6          Sharkia         27.9        54        15.5\n",
            "7         Kalyobia         27.9        54        15.5\n",
            "8   Kafr-El-Sheikh         25.3        72        11.5\n",
            "9          Gharbia         27.7        54        11.5\n",
            "10        Menoufia         27.9        54        15.5\n",
            "11          Behera         25.9        87        16.9\n",
            "12        Ismailia         27.5        63        13.3\n",
            "13            Giza         31.2        36        26.6\n",
            "14       Beni-Suef         33.7        27        34.2\n",
            "15          Fayoum         33.4        30        31.7\n",
            "16           Menia         30.1        30        16.2\n",
            "17          Asyout         27.9        54        15.5\n",
            "18           Suhag         34.7        17        13.3\n",
            "19            Qena         35.9        12        12.6\n",
            "20           Aswan         34.9        38        17.6\n",
            "21           Luxor         34.8        12        14.4\n",
            "22         Red Sea         24.0        55         4.3\n",
            "23  ElWadi ElGidid         27.9        54        15.5\n",
            "24         Matrouh         27.2        74        10.4\n",
            "25     North Sinai         29.2        69        16.6\n",
            "26     South Sinai         25.2        92         6.8\n"
          ]
        }
      ],
      "source": [
        "import requests\n",
        "import pandas as pd\n",
        "\n",
        "from dotenv import load_dotenv\n",
        "import os\n",
        "\n",
        "load_dotenv()\n",
        "\n",
        "api_key = os.getenv('API_KEY')\n",
        "\n",
        "governorates = [\"Cairo\", \"Alexandria\", \"Port-Said\", \"Suez\", \"Damietta\", \"Dakahlia\", \"Sharkia\",\n",
        "    \"Kalyobia\", \"Kafr-El-Sheikh\", \"Gharbia\", \"Menoufia\", \"Behera\", \"Ismailia\",\n",
        "    \"Giza\", \"Beni-Suef\", \"Fayoum\", \"Menia\", \"Asyout\", \"Suhag\", \"Qena\", \"Aswan\",\n",
        "    \"Luxor\", \"Red Sea\", \"ElWadi ElGidid\", \"Matrouh\", \"North Sinai\", \"South Sinai\"]\n",
        "weather_data = []\n",
        "\n",
        "for governorate in governorates:\n",
        "    url = f\"http://api.weatherapi.com/v1/current.json?key={api_key}&q={governorate}, Egypt&aqi=no\"\n",
        "\n",
        "    response = requests.get(url)\n",
        "    data = response.json()\n",
        "\n",
        "    if response.status_code == 200:\n",
        "        weather_info = {\n",
        "            'Governorate': governorate,\n",
        "            'Temperature': data['current']['temp_c'],\n",
        "            'Humidity': data['current']['humidity'],\n",
        "            'Wind Speed': data['current']['wind_kph']\n",
        "        }\n",
        "        weather_data.append(weather_info)\n",
        "    else:\n",
        "        print(f\"Failed to retrieve data for {governorate}\")\n",
        "\n",
        "weather_df = pd.DataFrame(weather_data)\n",
        "print(weather_df)\n"
      ]
    },
    {
      "cell_type": "code",
      "execution_count": 7,
      "metadata": {
        "id": "SOq21Cb7760Q"
      },
      "outputs": [],
      "source": [
        "pop_data = pd.read_csv('/content/sample_data/Egypt Population - Sheet1.csv')\n",
        "\n",
        "combined_data = pd.merge(pop_data, weather_df, on='Governorate', how='inner')\n",
        "combined_data.to_csv('combined_data.csv', index=False)\n"
      ]
    },
    {
      "cell_type": "code",
      "execution_count": 9,
      "metadata": {
        "colab": {
          "base_uri": "https://localhost:8080/"
        },
        "id": "q53dCt72OyPw",
        "outputId": "e02e29b4-6e7a-41dd-9713-765e17a475a8"
      },
      "outputs": [
        {
          "name": "stdout",
          "output_type": "stream",
          "text": [
            "  Governorate  Population  Temperature  Humidity  Wind Speed\n",
            "0       Cairo    10299821         31.5        37        25.9\n",
            "1  Alexandria     5573808         28.2        64        14.4\n",
            "2   Port-Said      793976         28.6        68        18.7\n",
            "3        Suez      797045         27.1        60        20.9\n",
            "4    Damietta     1626063         27.9        68        15.8\n"
          ]
        }
      ],
      "source": [
        "print(combined_data.head())"
      ]
    }
  ],
  "metadata": {
    "colab": {
      "provenance": []
    },
    "kernelspec": {
      "display_name": "Python 3",
      "name": "python3"
    },
    "language_info": {
      "name": "python"
    }
  },
  "nbformat": 4,
  "nbformat_minor": 0
}
