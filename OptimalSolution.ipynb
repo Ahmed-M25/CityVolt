{
  "nbformat": 4,
  "nbformat_minor": 0,
  "metadata": {
    "colab": {
      "provenance": []
    },
    "kernelspec": {
      "name": "python3",
      "display_name": "Python 3"
    },
    "language_info": {
      "name": "python"
    }
  },
  "cells": [
    {
      "cell_type": "code",
      "execution_count": 21,
      "metadata": {
        "id": "Z7tnbMQ07JA2"
      },
      "outputs": [],
      "source": [
        "import numpy as np\n",
        "import random"
      ]
    },
    {
      "cell_type": "code",
      "source": [
        "#sample data, change later\n",
        "\n",
        "num_universes = 50\n",
        "num_variables = 6\n",
        "max_iterations = 1000\n",
        "P_demand = 32235000\n",
        "\n",
        "lower_bound = np.array([50, 50, 20, 20, 200, 200])   # Lower bounds for each DER\n",
        "upper_bound = np.array([100, 100, 50, 50, 400, 400]) # Upper bounds for each DER\n",
        "\n",
        "alpha = np.array([0.001, 0.001, 0.002, 0.002, 0.005, 0.005])\n",
        "beta = np.array([20, 20, 15, 15, 40, 40])\n",
        "gamma = np.array([1000, 1000, 500, 500, 2000, 2000])\n"
      ],
      "metadata": {
        "id": "-lsuBhFB7Rv9"
      },
      "execution_count": 22,
      "outputs": []
    },
    {
      "cell_type": "code",
      "source": [
        "# Q-learning parameters\n",
        "num_states = 100\n",
        "num_actions = num_variables\n",
        "learning_rate = 0.1\n",
        "discount_factor = 0.9\n",
        "epsilon = 1.0\n",
        "epsilon_decay = 0.995\n",
        "min_epsilon = 0.01\n",
        "\n",
        "q_table_size = num_states ** num_variables\n",
        "q_table = np.zeros((q_table_size, num_actions))"
      ],
      "metadata": {
        "id": "bMrYaScdZUpL"
      },
      "execution_count": 32,
      "outputs": []
    },
    {
      "cell_type": "code",
      "source": [
        "def fitness_function_with_penalty(universe, P_demand, penalty_factor=10000):\n",
        "    P_total = np.sum(universe)\n",
        "\n",
        "    original_cost = np.sum(alpha * universe**2 + beta * universe + gamma)\n",
        "\n",
        "    penalty = penalty_factor * max(0, P_demand - P_total)\n",
        "\n",
        "    penalized_cost = original_cost + penalty\n",
        "\n",
        "    return penalized_cost\n"
      ],
      "metadata": {
        "id": "JN0y4Rxu9Nu6"
      },
      "execution_count": 33,
      "outputs": []
    },
    {
      "cell_type": "code",
      "source": [
        "def discretize_state(universe, lower_bound, upper_bound, num_states):\n",
        "    relative_state = (universe - lower_bound) / (upper_bound - lower_bound)\n",
        "    discrete_state = (relative_state * (num_states - 1)).astype(int)\n",
        "    flat_index = np.sum(discrete_state * (num_states ** np.arange(len(discrete_state))))\n",
        "    max_index = num_states ** len(universe) - 1\n",
        "    flat_index = min(flat_index, max_index)\n",
        "    return flat_index"
      ],
      "metadata": {
        "id": "W6DryZQXZryj"
      },
      "execution_count": 34,
      "outputs": []
    },
    {
      "cell_type": "code",
      "source": [
        "def initialize_universes(num_universes, num_variables, lower_bound, upper_bound):\n",
        "    return np.random.uniform(low=lower_bound, high=upper_bound, size=(num_universes, num_variables))\n",
        "\n",
        "universes = initialize_universes(num_universes, num_variables, lower_bound, upper_bound)\n"
      ],
      "metadata": {
        "id": "npqGUs619PA6"
      },
      "execution_count": 35,
      "outputs": []
    },
    {
      "cell_type": "code",
      "source": [
        "fitness = np.array([fitness_function_with_penalty(universe, P_demand) for universe in universes])\n"
      ],
      "metadata": {
        "id": "s-XlfiP99TMk"
      },
      "execution_count": 36,
      "outputs": []
    },
    {
      "cell_type": "code",
      "source": [
        "def white_black_hole_mechanism(universes, fitness):\n",
        "    sorted_indices = np.argsort(fitness)\n",
        "    best_universe = universes[sorted_indices[0]]\n",
        "    worst_universe = universes[sorted_indices[-1]]\n",
        "\n",
        "    for i in range(num_universes):\n",
        "        if i != sorted_indices[0]:\n",
        "            universes[i] += np.random.uniform(0, 1) * (best_universe - universes[i])\n",
        "            universes[i] -= np.random.uniform(0, 1) * (universes[i] - worst_universe)\n",
        "\n",
        "    return universes\n"
      ],
      "metadata": {
        "id": "FZR-LdV4qq1x"
      },
      "execution_count": 37,
      "outputs": []
    },
    {
      "cell_type": "code",
      "source": [
        "def wormhole_mechanism(universes, q_table, iteration, max_iterations, lower_bound, upper_bound):\n",
        "    WEP = 0.2 + iteration * (1.0 - 0.2) / max_iterations  # Wormhole Existence Probability\n",
        "    TDR = 1 - (iteration / max_iterations)**6  # Traveling Distance Rate\n",
        "\n",
        "    for i in range(num_universes):\n",
        "        if np.random.uniform(0, 1) < WEP:\n",
        "            state = discretize_state(universes[i], lower_bound, upper_bound, num_states)\n",
        "\n",
        "            if np.random.uniform(0, 1) < epsilon:\n",
        "                action = np.random.randint(0, num_actions)  # Explore\n",
        "            else:\n",
        "                action = np.argmax(q_table[state])  # Exploit\n",
        "\n",
        "            adjustment = TDR * np.random.uniform(-1, 1) * (upper_bound[action] - lower_bound[action])\n",
        "            universes[i][action] += adjustment\n",
        "\n",
        "            universes[i] = np.clip(universes[i], lower_bound, upper_bound)\n",
        "\n",
        "            new_state = discretize_state(universes[i], lower_bound, upper_bound, num_states)\n",
        "            reward = -fitness_function_with_penalty(universes[i], P_demand)  # Reward is the negative cost\n",
        "\n",
        "            old_value = q_table[state, action]\n",
        "            next_max = np.max(q_table[new_state])\n",
        "            q_table[state, action] = old_value + learning_rate * (reward + discount_factor * next_max - old_value)\n",
        "\n",
        "    return universes\n"
      ],
      "metadata": {
        "id": "55RFrGmKrE3-"
      },
      "execution_count": 38,
      "outputs": []
    },
    {
      "cell_type": "code",
      "source": [
        "best_solutions = []\n",
        "\n",
        "for iteration in range(max_iterations):\n",
        "    universes = white_black_hole_mechanism(universes, fitness)\n",
        "\n",
        "    universes = wormhole_mechanism(universes, q_table, iteration, max_iterations, lower_bound, upper_bound)\n",
        "\n",
        "\n",
        "    fitness = np.array([fitness_function_with_penalty(universe, P_demand) for universe in universes])\n",
        "\n",
        "    best_fitness_idx = np.argmin(fitness)\n",
        "    best_solutions.append(universes[best_fitness_idx])\n",
        "\n",
        "    if epsilon > min_epsilon:\n",
        "        epsilon *= epsilon_decay"
      ],
      "metadata": {
        "id": "1GgZlF9BrIhb"
      },
      "execution_count": 39,
      "outputs": []
    },
    {
      "cell_type": "code",
      "source": [
        "best_universe = min(best_solutions, key=lambda u: fitness_function_with_penalty(u, P_demand))\n",
        "min_cost = fitness_function_with_penalty(best_universe, P_demand)\n",
        "\n",
        "print(\"Best solution (power outputs):\", best_universe)\n",
        "print(\"Minimum generation cost:\", min_cost)\n"
      ],
      "metadata": {
        "colab": {
          "base_uri": "https://localhost:8080/"
        },
        "id": "7O6zOMKyrSj4",
        "outputId": "626cf387-a6b6-4c2f-ff23-ef2d217fd379"
      },
      "execution_count": 40,
      "outputs": [
        {
          "output_type": "stream",
          "name": "stdout",
          "text": [
            "Best solution (power outputs): [ 96.44030271  99.60156163  49.76029358  49.93191014 397.27976682\n",
            " 371.19446177]\n",
            "Minimum generation cost: 322339402579.4653\n"
          ]
        }
      ]
    }
  ]
}