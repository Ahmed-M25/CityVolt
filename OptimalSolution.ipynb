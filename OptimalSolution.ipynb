{
  "nbformat": 4,
  "nbformat_minor": 0,
  "metadata": {
    "colab": {
      "provenance": []
    },
    "kernelspec": {
      "name": "python3",
      "display_name": "Python 3"
    },
    "language_info": {
      "name": "python"
    }
  },
  "cells": [
    {
      "cell_type": "code",
      "execution_count": 1,
      "metadata": {
        "id": "Z7tnbMQ07JA2"
      },
      "outputs": [],
      "source": [
        "import numpy as np\n",
        "import random"
      ]
    },
    {
      "cell_type": "code",
      "source": [
        "#sample data, change later\n",
        "\n",
        "num_universes = 50\n",
        "num_variables = 6\n",
        "max_iterations = 1000\n",
        "P_demand = 32235000\n",
        "\n",
        "lower_bound = np.array([50, 50, 20, 20, 200, 200])   # Lower bounds for each DER\n",
        "upper_bound = np.array([100, 100, 50, 50, 400, 400]) # Upper bounds for each DER\n",
        "\n",
        "alpha = np.array([0.001, 0.001, 0.002, 0.002, 0.005, 0.005])\n",
        "beta = np.array([20, 20, 15, 15, 40, 40])\n",
        "gamma = np.array([1000, 1000, 500, 500, 2000, 2000])\n"
      ],
      "metadata": {
        "id": "-lsuBhFB7Rv9"
      },
      "execution_count": 10,
      "outputs": []
    },
    {
      "cell_type": "code",
      "source": [
        "def fitness_function_with_penalty(universe, P_demand, penalty_factor=10000):\n",
        "    P_total = np.sum(universe)\n",
        "\n",
        "    original_cost = np.sum(alpha * universe**2 + beta * universe + gamma)\n",
        "\n",
        "    penalty = penalty_factor * max(0, P_demand - P_total)\n",
        "\n",
        "    penalized_cost = original_cost + penalty\n",
        "\n",
        "    return penalized_cost\n"
      ],
      "metadata": {
        "id": "JN0y4Rxu9Nu6"
      },
      "execution_count": 11,
      "outputs": []
    },
    {
      "cell_type": "code",
      "source": [
        "def initialize_universes(num_universes, num_variables, lower_bound, upper_bound):\n",
        "    return np.random.uniform(low=lower_bound, high=upper_bound, size=(num_universes, num_variables))\n",
        "\n",
        "universes = initialize_universes(num_universes, num_variables, lower_bound, upper_bound)\n"
      ],
      "metadata": {
        "id": "npqGUs619PA6"
      },
      "execution_count": 12,
      "outputs": []
    },
    {
      "cell_type": "code",
      "source": [
        "fitness = np.array([fitness_function_with_penalty(universe, P_demand) for universe in universes])\n"
      ],
      "metadata": {
        "id": "s-XlfiP99TMk"
      },
      "execution_count": 13,
      "outputs": []
    },
    {
      "cell_type": "code",
      "source": [
        "def white_black_hole_mechanism(universes, fitness):\n",
        "    sorted_indices = np.argsort(fitness)\n",
        "    best_universe = universes[sorted_indices[0]]\n",
        "    worst_universe = universes[sorted_indices[-1]]\n",
        "\n",
        "    for i in range(num_universes):\n",
        "        if i != sorted_indices[0]:\n",
        "            universes[i] += np.random.uniform(0, 1) * (best_universe - universes[i])\n",
        "            universes[i] -= np.random.uniform(0, 1) * (universes[i] - worst_universe)\n",
        "\n",
        "    return universes\n"
      ],
      "metadata": {
        "id": "FZR-LdV4qq1x"
      },
      "execution_count": 14,
      "outputs": []
    },
    {
      "cell_type": "code",
      "source": [
        "def wormhole_mechanism(universes, iteration, max_iterations, lower_bound, upper_bound):\n",
        "    WEP = 0.2 + iteration * (1.0 - 0.2) / max_iterations\n",
        "    TDR = 1 - (iteration / max_iterations)**6\n",
        "\n",
        "    for i in range(num_universes):\n",
        "        if np.random.uniform(0, 1) < WEP:\n",
        "            universes[i] += TDR * np.random.uniform(-1, 1, size=num_variables) * (upper_bound - lower_bound)\n",
        "            universes[i] = np.clip(universes[i], lower_bound, upper_bound)\n",
        "\n",
        "    return universes\n"
      ],
      "metadata": {
        "id": "55RFrGmKrE3-"
      },
      "execution_count": 15,
      "outputs": []
    },
    {
      "cell_type": "code",
      "source": [
        "best_solutions = []\n",
        "\n",
        "for iteration in range(max_iterations):\n",
        "    universes = white_black_hole_mechanism(universes, fitness)\n",
        "\n",
        "    universes = wormhole_mechanism(universes, iteration, max_iterations, lower_bound, upper_bound)\n",
        "\n",
        "    fitness = np.array([fitness_function_with_penalty(universe, P_demand) for universe in universes])\n",
        "\n",
        "    best_fitness_idx = np.argmin(fitness)\n",
        "    best_solutions.append(universes[best_fitness_idx])\n"
      ],
      "metadata": {
        "id": "1GgZlF9BrIhb"
      },
      "execution_count": 16,
      "outputs": []
    },
    {
      "cell_type": "code",
      "source": [
        "best_universe = min(best_solutions, key=lambda u: fitness_function_with_penalty(u, P_demand))\n",
        "min_cost = fitness_function_with_penalty(best_universe, P_demand)\n",
        "\n",
        "print(\"Best solution (power outputs):\", best_universe)\n",
        "print(\"Minimum generation cost:\", min_cost)\n"
      ],
      "metadata": {
        "colab": {
          "base_uri": "https://localhost:8080/"
        },
        "id": "7O6zOMKyrSj4",
        "outputId": "13733e63-d0ca-4469-e469-a22a1eef2681"
      },
      "execution_count": 17,
      "outputs": [
        {
          "output_type": "stream",
          "name": "stdout",
          "text": [
            "Best solution (power outputs): [ 97.83484898  99.00644683  44.38405996  24.62375445 391.24912212\n",
            " 395.6740149 ]\n",
            "Minimum generation cost: 322339517299.0917\n"
          ]
        }
      ]
    }
  ]
}