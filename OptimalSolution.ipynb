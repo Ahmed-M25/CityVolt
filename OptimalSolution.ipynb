{
  "nbformat": 4,
  "nbformat_minor": 0,
  "metadata": {
    "colab": {
      "provenance": []
    },
    "kernelspec": {
      "name": "python3",
      "display_name": "Python 3"
    },
    "language_info": {
      "name": "python"
    }
  },
  "cells": [
    {
      "cell_type": "code",
      "execution_count": 1,
      "metadata": {
        "id": "Z7tnbMQ07JA2"
      },
      "outputs": [],
      "source": [
        "import numpy as np\n",
        "import random"
      ]
    },
    {
      "cell_type": "code",
      "source": [
        "#sample data, change later\n",
        "\n",
        "num_universes = 50\n",
        "num_variables = 6\n",
        "max_iterations = 1000\n",
        "P_demand = 2000\n",
        "\n",
        "lower_bound = np.zeros(num_variables)\n",
        "upper_bound = np.ones(num_variables) * 1000\n",
        "\n",
        "alpha = np.array([0.0027, 0.0028, 0.0026, 0.0055, 0.0055, 0.0083])\n",
        "beta = np.array([17.83, 17.54, 17.23, 29.30, 29.58, 75.73])\n",
        "gamma = np.array([4.46, 4.45, 4.44, 4.45, 4.46, 5.21])\n"
      ],
      "metadata": {
        "id": "-lsuBhFB7Rv9"
      },
      "execution_count": 10,
      "outputs": []
    },
    {
      "cell_type": "code",
      "source": [
        "def fitness_function_with_penalty(universe, P_demand, penalty_factor=10000):\n",
        "    P_total = np.sum(universe)\n",
        "\n",
        "    original_cost = np.sum(alpha * universe**2 + beta * universe + gamma)\n",
        "\n",
        "    penalty = penalty_factor * max(0, P_demand - P_total)\n",
        "\n",
        "    penalized_cost = original_cost + penalty\n",
        "\n",
        "    return penalized_cost\n"
      ],
      "metadata": {
        "id": "JN0y4Rxu9Nu6"
      },
      "execution_count": 11,
      "outputs": []
    },
    {
      "cell_type": "code",
      "source": [
        "def initialize_universes(num_universes, num_variables, lower_bound, upper_bound):\n",
        "    return np.random.uniform(low=lower_bound, high=upper_bound, size=(num_universes, num_variables))\n",
        "\n",
        "universes = initialize_universes(num_universes, num_variables, lower_bound, upper_bound)\n"
      ],
      "metadata": {
        "id": "npqGUs619PA6"
      },
      "execution_count": 4,
      "outputs": []
    },
    {
      "cell_type": "code",
      "source": [
        "fitness = np.array([fitness_function_with_penalty(universe, P_demand) for universe in universes])\n"
      ],
      "metadata": {
        "id": "s-XlfiP99TMk"
      },
      "execution_count": 12,
      "outputs": []
    },
    {
      "cell_type": "code",
      "source": [
        "def white_black_hole_mechanism(universes, fitness):\n",
        "    sorted_indices = np.argsort(fitness)\n",
        "    best_universe = universes[sorted_indices[0]]\n",
        "    worst_universe = universes[sorted_indices[-1]]\n",
        "\n",
        "    for i in range(num_universes):\n",
        "        if i != sorted_indices[0]:\n",
        "            universes[i] += np.random.uniform(0, 1) * (best_universe - universes[i])\n",
        "            universes[i] -= np.random.uniform(0, 1) * (universes[i] - worst_universe)\n",
        "\n",
        "    return universes\n"
      ],
      "metadata": {
        "id": "FZR-LdV4qq1x"
      },
      "execution_count": 6,
      "outputs": []
    },
    {
      "cell_type": "code",
      "source": [
        "def wormhole_mechanism(universes, iteration, max_iterations, lower_bound, upper_bound):\n",
        "    WEP = 0.2 + iteration * (1.0 - 0.2) / max_iterations\n",
        "    TDR = 1 - (iteration / max_iterations)**6\n",
        "\n",
        "    for i in range(num_universes):\n",
        "        if np.random.uniform(0, 1) < WEP:\n",
        "            universes[i] += TDR * np.random.uniform(-1, 1, size=num_variables) * (upper_bound - lower_bound)\n",
        "            universes[i] = np.clip(universes[i], lower_bound, upper_bound)\n",
        "\n",
        "    return universes\n"
      ],
      "metadata": {
        "id": "55RFrGmKrE3-"
      },
      "execution_count": 7,
      "outputs": []
    },
    {
      "cell_type": "code",
      "source": [
        "best_solutions = []\n",
        "\n",
        "for iteration in range(max_iterations):\n",
        "    universes = white_black_hole_mechanism(universes, fitness)\n",
        "\n",
        "    universes = wormhole_mechanism(universes, iteration, max_iterations, lower_bound, upper_bound)\n",
        "\n",
        "    fitness = np.array([fitness_function_with_penalty(universe, P_demand) for universe in universes])\n",
        "\n",
        "    best_fitness_idx = np.argmin(fitness)\n",
        "    best_solutions.append(universes[best_fitness_idx])\n"
      ],
      "metadata": {
        "id": "1GgZlF9BrIhb"
      },
      "execution_count": 13,
      "outputs": []
    },
    {
      "cell_type": "code",
      "source": [
        "best_universe = min(best_solutions, key=lambda u: fitness_function_with_penalty(u, P_demand))\n",
        "min_cost = fitness_function_with_penalty(best_universe, P_demand)\n",
        "\n",
        "print(\"Best solution (power outputs):\", best_universe)\n",
        "print(\"Minimum generation cost:\", min_cost)\n"
      ],
      "metadata": {
        "colab": {
          "base_uri": "https://localhost:8080/"
        },
        "id": "7O6zOMKyrSj4",
        "outputId": "de82fea7-889b-4544-ad3f-e74e41c98562"
      },
      "execution_count": 15,
      "outputs": [
        {
          "output_type": "stream",
          "name": "stdout",
          "text": [
            "Best solution (power outputs): [677.74806917 474.98769494 343.94789113  11.93552119 499.11750259\n",
            "   3.58511709]\n",
            "Minimum generation cost: 45304.89482738727\n"
          ]
        }
      ]
    }
  ]
}